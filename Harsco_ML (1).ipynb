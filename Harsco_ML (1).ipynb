{
 "cells": [
  {
   "cell_type": "markdown",
   "id": "558823aa",
   "metadata": {},
   "source": [
    "###  Predicting resubmit/returned profiles using machine learning "
   ]
  },
  {
   "cell_type": "markdown",
   "id": "6cd00568",
   "metadata": {},
   "source": [
    "Importing all required modules"
   ]
  },
  {
   "cell_type": "code",
   "execution_count": 3,
   "id": "4fcc56aa",
   "metadata": {},
   "outputs": [],
   "source": [
    "import pandas as pd\n",
    "import numpy as np\n",
    "import matplotlib\n",
    "from matplotlib import pyplot as plt\n",
    "from sklearn import metrics \n",
    "from sklearn.model_selection import train_test_split\n",
    "from sklearn.ensemble import RandomForestClassifier\n",
    "from sklearn.metrics import accuracy_score, classification_report\n",
    "from sklearn.model_selection import StratifiedShuffleSplit\n",
    "from sklearn.preprocessing import OneHotEncoder, LabelEncoder\n",
    "from sklearn.ensemble import RandomForestClassifier, ExtraTreesClassifier\n",
    "from sklearn.dummy import DummyClassifier\n",
    "from sklearn.metrics import classification_report, accuracy_score\n",
    "from sklearn.metrics import  confusion_matrix\n",
    "from sklearn.feature_selection import VarianceThreshold\n",
    "from statsmodels.stats.outliers_influence import variance_inflation_factor\n",
    "import seaborn as sns\n",
    "from sklearn.feature_selection import mutual_info_classif\n",
    "from sklearn.metrics import precision_score, recall_score, f1_score\n",
    "from sklearn.naive_bayes import GaussianNB\n",
    "from sklearn.neighbors import KNeighborsClassifier"
   ]
  },
  {
   "cell_type": "markdown",
   "id": "6ec6e7a0",
   "metadata": {},
   "source": [
    "Loading the dataset using pandas"
   ]
  },
  {
   "cell_type": "code",
   "execution_count": 4,
   "id": "e86e2ddb",
   "metadata": {},
   "outputs": [],
   "source": [
    "df = pd.read_excel(r\"C:\\Users\\RameshMisale\\Documents\\Profile_data.xlsx\")"
   ]
  },
  {
   "cell_type": "code",
   "execution_count": 5,
   "id": "6e309b00",
   "metadata": {},
   "outputs": [],
   "source": [
    "df1 = df"
   ]
  },
  {
   "cell_type": "markdown",
   "id": "c4ebf49f",
   "metadata": {},
   "source": [
    "The resubmit stage in datetime format so converting into binary and this is our target variable "
   ]
  },
  {
   "cell_type": "code",
   "execution_count": 6,
   "id": "8a72465e",
   "metadata": {},
   "outputs": [],
   "source": [
    "df1['Resubmit'] = pd.to_datetime(df1['Resubmit'])\n",
    "df1['Resubmit_binary'] = df1['Resubmit'].notnull().astype(int)"
   ]
  },
  {
   "cell_type": "markdown",
   "id": "783dd2b9",
   "metadata": {},
   "source": [
    "Filling the null values "
   ]
  },
  {
   "cell_type": "code",
   "execution_count": 7,
   "id": "87e018a7",
   "metadata": {},
   "outputs": [],
   "source": [
    "columns_to_fill = ['rcra_non_haz_exempt','halogens_flag','no_reactivity_flag','layered','viscosity','odor_flag','ph_flag',\n",
    "    'flash_point_flag','boiling_point_flag','btu_per_lbs','pumpable_waste_flag','polymerizable_flag','benzene_waste_flag',\n",
    "    'voc_100_ppm','marine_pollutant_flag','origin_code','sds_attached','specific_gravity','benzene_section_flag',\n",
    "    'max_benzene_flag','benzene_water','prohibited_land_disposal','uts_waste','voc_500_ppm','specialpricing_flag',\n",
    "    'intercompany_flag','mgp_flag','pa_waste_catogory','debris','compressed_gas','analytical_ind',\n",
    "    'generatorknowledge_ind','sds_ind','formulary_attached','analytical_attached','sample_provided','mgplock_flag',\n",
    "    'naics_flag','federal_universal_waste','generator_state_universal_waste']\n",
    "df1[columns_to_fill] = df1[columns_to_fill].fillna(0, inplace=False)"
   ]
  },
  {
   "cell_type": "code",
   "execution_count": 8,
   "id": "ba8794b7",
   "metadata": {},
   "outputs": [],
   "source": [
    "col = ['water_percentage', 'toc_percentage'] #filling with mean for these 2 columns\n",
    "df1[col] = df1[col].fillna(df1[col].mean(), inplace=False)\n",
    "#df1.isnull().sum()"
   ]
  },
  {
   "cell_type": "markdown",
   "id": "de230358",
   "metadata": {},
   "source": [
    "Dropping the object and datatime columns"
   ]
  },
  {
   "cell_type": "code",
   "execution_count": 9,
   "id": "7ab4b5fe",
   "metadata": {},
   "outputs": [],
   "source": [
    "object_columns = df1.select_dtypes(include=['object','datetime64']).columns\n",
    "df_dropped_objects = df1.drop(object_columns, axis=1)\n",
    "# df_dropped_objects.dtypes"
   ]
  },
  {
   "cell_type": "markdown",
   "id": "b03a7d90",
   "metadata": {},
   "source": [
    "Feature selection dropping constant feature"
   ]
  },
  {
   "cell_type": "code",
   "execution_count": 10,
   "id": "15dc99d0",
   "metadata": {},
   "outputs": [
    {
     "name": "stderr",
     "output_type": "stream",
     "text": [
      "C:\\Users\\RameshMisale\\anaconda3\\Lib\\site-packages\\sklearn\\feature_selection\\_variance_threshold.py:111: RuntimeWarning: Degrees of freedom <= 0 for slice.\n",
      "  self.variances_ = np.nanvar(X, axis=0)\n",
      "C:\\Users\\RameshMisale\\anaconda3\\Lib\\site-packages\\sklearn\\feature_selection\\_variance_threshold.py:119: RuntimeWarning: All-NaN slice encountered\n",
      "  self.variances_ = np.nanmin(compare_arr, axis=0)\n"
     ]
    },
    {
     "data": {
      "text/html": [
       "<style>#sk-container-id-1 {color: black;background-color: white;}#sk-container-id-1 pre{padding: 0;}#sk-container-id-1 div.sk-toggleable {background-color: white;}#sk-container-id-1 label.sk-toggleable__label {cursor: pointer;display: block;width: 100%;margin-bottom: 0;padding: 0.3em;box-sizing: border-box;text-align: center;}#sk-container-id-1 label.sk-toggleable__label-arrow:before {content: \"▸\";float: left;margin-right: 0.25em;color: #696969;}#sk-container-id-1 label.sk-toggleable__label-arrow:hover:before {color: black;}#sk-container-id-1 div.sk-estimator:hover label.sk-toggleable__label-arrow:before {color: black;}#sk-container-id-1 div.sk-toggleable__content {max-height: 0;max-width: 0;overflow: hidden;text-align: left;background-color: #f0f8ff;}#sk-container-id-1 div.sk-toggleable__content pre {margin: 0.2em;color: black;border-radius: 0.25em;background-color: #f0f8ff;}#sk-container-id-1 input.sk-toggleable__control:checked~div.sk-toggleable__content {max-height: 200px;max-width: 100%;overflow: auto;}#sk-container-id-1 input.sk-toggleable__control:checked~label.sk-toggleable__label-arrow:before {content: \"▾\";}#sk-container-id-1 div.sk-estimator input.sk-toggleable__control:checked~label.sk-toggleable__label {background-color: #d4ebff;}#sk-container-id-1 div.sk-label input.sk-toggleable__control:checked~label.sk-toggleable__label {background-color: #d4ebff;}#sk-container-id-1 input.sk-hidden--visually {border: 0;clip: rect(1px 1px 1px 1px);clip: rect(1px, 1px, 1px, 1px);height: 1px;margin: -1px;overflow: hidden;padding: 0;position: absolute;width: 1px;}#sk-container-id-1 div.sk-estimator {font-family: monospace;background-color: #f0f8ff;border: 1px dotted black;border-radius: 0.25em;box-sizing: border-box;margin-bottom: 0.5em;}#sk-container-id-1 div.sk-estimator:hover {background-color: #d4ebff;}#sk-container-id-1 div.sk-parallel-item::after {content: \"\";width: 100%;border-bottom: 1px solid gray;flex-grow: 1;}#sk-container-id-1 div.sk-label:hover label.sk-toggleable__label {background-color: #d4ebff;}#sk-container-id-1 div.sk-serial::before {content: \"\";position: absolute;border-left: 1px solid gray;box-sizing: border-box;top: 0;bottom: 0;left: 50%;z-index: 0;}#sk-container-id-1 div.sk-serial {display: flex;flex-direction: column;align-items: center;background-color: white;padding-right: 0.2em;padding-left: 0.2em;position: relative;}#sk-container-id-1 div.sk-item {position: relative;z-index: 1;}#sk-container-id-1 div.sk-parallel {display: flex;align-items: stretch;justify-content: center;background-color: white;position: relative;}#sk-container-id-1 div.sk-item::before, #sk-container-id-1 div.sk-parallel-item::before {content: \"\";position: absolute;border-left: 1px solid gray;box-sizing: border-box;top: 0;bottom: 0;left: 50%;z-index: -1;}#sk-container-id-1 div.sk-parallel-item {display: flex;flex-direction: column;z-index: 1;position: relative;background-color: white;}#sk-container-id-1 div.sk-parallel-item:first-child::after {align-self: flex-end;width: 50%;}#sk-container-id-1 div.sk-parallel-item:last-child::after {align-self: flex-start;width: 50%;}#sk-container-id-1 div.sk-parallel-item:only-child::after {width: 0;}#sk-container-id-1 div.sk-dashed-wrapped {border: 1px dashed gray;margin: 0 0.4em 0.5em 0.4em;box-sizing: border-box;padding-bottom: 0.4em;background-color: white;}#sk-container-id-1 div.sk-label label {font-family: monospace;font-weight: bold;display: inline-block;line-height: 1.2em;}#sk-container-id-1 div.sk-label-container {text-align: center;}#sk-container-id-1 div.sk-container {/* jupyter's `normalize.less` sets `[hidden] { display: none; }` but bootstrap.min.css set `[hidden] { display: none !important; }` so we also need the `!important` here to be able to override the default hidden behavior on the sphinx rendered scikit-learn.org. See: https://github.com/scikit-learn/scikit-learn/issues/21755 */display: inline-block !important;position: relative;}#sk-container-id-1 div.sk-text-repr-fallback {display: none;}</style><div id=\"sk-container-id-1\" class=\"sk-top-container\"><div class=\"sk-text-repr-fallback\"><pre>VarianceThreshold(threshold=0)</pre><b>In a Jupyter environment, please rerun this cell to show the HTML representation or trust the notebook. <br />On GitHub, the HTML representation is unable to render, please try loading this page with nbviewer.org.</b></div><div class=\"sk-container\" hidden><div class=\"sk-item\"><div class=\"sk-estimator sk-toggleable\"><input class=\"sk-toggleable__control sk-hidden--visually\" id=\"sk-estimator-id-1\" type=\"checkbox\" checked><label for=\"sk-estimator-id-1\" class=\"sk-toggleable__label sk-toggleable__label-arrow\">VarianceThreshold</label><div class=\"sk-toggleable__content\"><pre>VarianceThreshold(threshold=0)</pre></div></div></div></div></div>"
      ],
      "text/plain": [
       "VarianceThreshold(threshold=0)"
      ]
     },
     "execution_count": 10,
     "metadata": {},
     "output_type": "execute_result"
    }
   ],
   "source": [
    "#It will remove the zero variance features\n",
    "\n",
    "var_thres=VarianceThreshold(threshold=0)\n",
    "var_thres.fit(df_dropped_objects)"
   ]
  },
  {
   "cell_type": "markdown",
   "id": "99f4bcf0",
   "metadata": {},
   "source": [
    "Printing the columns with their values which are constants "
   ]
  },
  {
   "cell_type": "code",
   "execution_count": 11,
   "id": "7a1829b1",
   "metadata": {},
   "outputs": [
    {
     "name": "stdout",
     "output_type": "stream",
     "text": [
      "Number of constant columns: 17\n",
      "Constant column: phenolics_ppm\n",
      "Unique values: [nan  0.]\n",
      "\n",
      "\n",
      "Constant column: cylinder_flag\n",
      "Unique values: [nan  0.]\n",
      "\n",
      "\n",
      "Constant column: minimum_packaging_requirements\n",
      "Unique values: [nan]\n",
      "\n",
      "\n",
      "Constant column: outbound_profile_taxes\n",
      "Unique values: [nan]\n",
      "\n",
      "\n",
      "Constant column: inbound_oubound_id_xref\n",
      "Unique values: [nan]\n",
      "\n",
      "\n",
      "Constant column: ky_report_physical_state_ind\n",
      "Unique values: [nan]\n",
      "\n",
      "\n",
      "Constant column: ky_report_onsite_ind\n",
      "Unique values: [nan]\n",
      "\n",
      "\n",
      "Constant column: contract_id\n",
      "Unique values: [nan]\n",
      "\n",
      "\n",
      "Constant column: sic_code\n",
      "Unique values: [nan]\n",
      "\n",
      "\n",
      "Constant column: pet_chem_flag\n",
      "Unique values: [nan  0.]\n",
      "\n",
      "\n",
      "Constant column: pet_chem_actual\n",
      "Unique values: [nan]\n",
      "\n",
      "\n",
      "Constant column: cokeoven_flag\n",
      "Unique values: [ 0. nan]\n",
      "\n",
      "\n",
      "Constant column: container_size_flag\n",
      "Unique values: [ 1. nan]\n",
      "\n",
      "\n",
      "Constant column: waste_type_id\n",
      "Unique values: [nan]\n",
      "\n",
      "\n",
      "Constant column: highly_toxic_flag\n",
      "Unique values: [nan  0.]\n",
      "\n",
      "\n",
      "Constant column: incin_prep_flag\n",
      "Unique values: [nan  1.]\n",
      "\n",
      "\n",
      "Constant column: no_uhcs_flag\n",
      "Unique values: [ 1. nan]\n",
      "\n",
      "\n"
     ]
    }
   ],
   "source": [
    "constant_columns = [column for column in df_dropped_objects.columns\n",
    "                    if column not in df_dropped_objects.columns[var_thres.get_support()]]\n",
    "print(f\"Number of constant columns: {len(constant_columns)}\")\n",
    "for feature in constant_columns:\n",
    "    unique_values = df_dropped_objects[feature].unique()\n",
    "    print(f\"Constant column: {feature}\")\n",
    "    print(f\"Unique values: {unique_values}\")\n",
    "    print(\"\\n\")\n"
   ]
  },
  {
   "cell_type": "code",
   "execution_count": 12,
   "id": "05de98c0",
   "metadata": {},
   "outputs": [],
   "source": [
    "data = df_dropped_objects.drop(constant_columns,axis=1) #dropped the columns here "
   ]
  },
  {
   "cell_type": "markdown",
   "id": "36dce5b1",
   "metadata": {},
   "source": [
    "Feature_selection by correlation and dropped the features which are having >80% correlation with each other"
   ]
  },
  {
   "cell_type": "code",
   "execution_count": 13,
   "id": "b0b42100",
   "metadata": {},
   "outputs": [],
   "source": [
    "def correlation(dataset,threshold):\n",
    "    col_corr=set()\n",
    "    corr_matrix=dataset.corr()\n",
    "    for i in range(len(corr_matrix.columns)):\n",
    "        for j in range(i):\n",
    "            if abs(corr_matrix.iloc[i,j]>threshold):\n",
    "                colname=corr_matrix.columns[i]\n",
    "                col_corr.add(colname)\n",
    "    return col_corr"
   ]
  },
  {
   "cell_type": "code",
   "execution_count": 14,
   "id": "01ee8162",
   "metadata": {},
   "outputs": [
    {
     "data": {
      "text/plain": [
       "48"
      ]
     },
     "execution_count": 14,
     "metadata": {},
     "output_type": "execute_result"
    }
   ],
   "source": [
    "corr_features=correlation(data,0.8)\n",
    "len(set(corr_features))"
   ]
  },
  {
   "cell_type": "code",
   "execution_count": 15,
   "id": "78c7b583",
   "metadata": {},
   "outputs": [],
   "source": [
    "#corr_features"
   ]
  },
  {
   "cell_type": "code",
   "execution_count": 16,
   "id": "917fcae6",
   "metadata": {},
   "outputs": [],
   "source": [
    "data1=data.drop(corr_features,axis=1) # dropped the correlated features here"
   ]
  },
  {
   "cell_type": "code",
   "execution_count": 17,
   "id": "b73d39b0",
   "metadata": {},
   "outputs": [
    {
     "data": {
      "text/plain": [
       "(59378, 136)"
      ]
     },
     "execution_count": 17,
     "metadata": {},
     "output_type": "execute_result"
    }
   ],
   "source": [
    "data1.shape"
   ]
  },
  {
   "cell_type": "code",
   "execution_count": 18,
   "id": "327dc943",
   "metadata": {},
   "outputs": [
    {
     "data": {
      "text/plain": [
       "(59378, 136)"
      ]
     },
     "execution_count": 18,
     "metadata": {},
     "output_type": "execute_result"
    }
   ],
   "source": [
    "data1.shape"
   ]
  },
  {
   "cell_type": "markdown",
   "id": "61a6f0ef",
   "metadata": {},
   "source": [
    "Dropping the columns which are having >90 % of null values"
   ]
  },
  {
   "cell_type": "code",
   "execution_count": 19,
   "id": "0d96c8a1",
   "metadata": {},
   "outputs": [],
   "source": [
    "threshold_percentage = 90 \n",
    "null_percentage = (data1.isnull().sum() / len(data1)) * 100\n",
    "columns_to_drop = null_percentage[null_percentage > threshold_percentage].index\n",
    "data1_dropped = data1.drop(columns=columns_to_drop)\n",
    "#data1_dropped.isnull().sum()"
   ]
  },
  {
   "cell_type": "code",
   "execution_count": 20,
   "id": "b1553c85",
   "metadata": {},
   "outputs": [],
   "source": [
    "data1_dropped = data1_dropped.fillna(0) #filling the null values with 0\n",
    "#data1_dropped.isnull().sum() "
   ]
  },
  {
   "cell_type": "code",
   "execution_count": 21,
   "id": "1097b9c9",
   "metadata": {},
   "outputs": [
    {
     "data": {
      "text/plain": [
       "(59378, 84)"
      ]
     },
     "execution_count": 21,
     "metadata": {},
     "output_type": "execute_result"
    }
   ],
   "source": [
    "dff = data1_dropped.drop(columns=['ReturnCount','DaysAssignReadyForGenSign','profile_id','web_profile_number',\n",
    "                                  'DaysSubmitToAssign','DaysAssignReadyForGenSign','DaysReadyForGenSignSentForGenSign',\n",
    "                                  'DaysDocSignReturnedToApproved','container_type_id','DaysInitiatedToSubmitted',\n",
    "'DaysSentForGenSignToDocSignReturned','vendor_id','ContractID','ldr_class_id','CustomerId','CollectionId',\n",
    "'HCSId','Recert','is_template_profile_flag','AssignUser_id','status_code_id','source_code_id','form_code_id',\n",
    "'management_method_code_id','outbound_profile_id','price_type_code_id','parent_profile_id','health_chemical_identity_id',\n",
    "'flammability_chemical_identity_id','reactivity_chemical_identity_id','process_code_id',\n",
    "'SalesrepID','InternalCoordinatorID','MarketDriverID','InsideSalesRepID','requested_process_code_id'],axis=1)\n",
    "dff.shape"
   ]
  },
  {
   "cell_type": "code",
   "execution_count": 22,
   "id": "1b174669",
   "metadata": {},
   "outputs": [],
   "source": [
    "# # Assuming 'dff' is your DataFrame\n",
    "# for column in dff.columns:\n",
    "#     print(column)"
   ]
  },
  {
   "cell_type": "code",
   "execution_count": 23,
   "id": "2c9c1882",
   "metadata": {},
   "outputs": [],
   "source": [
    "# X = dff.drop('Resubmit_binary', axis=1)\n",
    "# y = dff['Resubmit_binary']\n",
    "# X_train, X_test, y_train, y_test = train_test_split(X,y,test_size=0.2,random_state=42)"
   ]
  },
  {
   "cell_type": "code",
   "execution_count": 24,
   "id": "4e623b1d",
   "metadata": {},
   "outputs": [],
   "source": [
    "# from sklearn.feature_selection import f_classif,SelectKBest\n",
    "# fs = SelectKBest(score_func= f_classif,k=10)\n",
    "#fs.fit(X,y)\n",
    "#fs.get_support()\n",
    "#fs.get_support().sum()"
   ]
  },
  {
   "cell_type": "code",
   "execution_count": 25,
   "id": "063107c7",
   "metadata": {},
   "outputs": [],
   "source": [
    "# import math\n",
    "# def list_ceil(x):\n",
    "#     return[math.ceil(i) for i in x]"
   ]
  },
  {
   "cell_type": "code",
   "execution_count": 26,
   "id": "589b39a0",
   "metadata": {},
   "outputs": [],
   "source": [
    "# print(\"P_Value :\")\n",
    "# print(np.round(fs.pvalues_,4))\n",
    "# print(\"F Value :\")\n",
    "# print(fs.scores_)\n",
    "# list_ceil(fs.scores_)\n",
    "# features_score = pd.DataFrame(fs.scores_)\n",
    "# features_pvalue = pd.DataFrame(np.round(fs.pvalues_,4))\n",
    "# features = pd.DataFrame(X.columns)\n",
    "# feature_score = pd.concat([features,features_score,features_pvalue],axis=1)\n",
    "# # Assign the column name\n",
    "# feature_score.columns = [\"Input_Features\",\"Score\",\"P_Value\"]\n",
    "# print(feature_score.nlargest(5,columns=\"Score\"))"
   ]
  },
  {
   "cell_type": "markdown",
   "id": "ac695378",
   "metadata": {},
   "source": [
    "Checking the VIF value and dropped which are having > 5 VIF value"
   ]
  },
  {
   "cell_type": "code",
   "execution_count": 27,
   "id": "62229585",
   "metadata": {},
   "outputs": [
    {
     "name": "stdout",
     "output_type": "stream",
     "text": [
      "                            feature        VIF\n",
      "0                             IsHaz  41.992835\n",
      "1              outbound_profile_ind   1.218593\n",
      "2                     isRecertified   1.227366\n",
      "3                     standard_flag  32.184140\n",
      "4                         rush_flag   4.942465\n",
      "..                              ...        ...\n",
      "79                       label_type   2.613335\n",
      "80          federal_universal_waste   1.663563\n",
      "81  generator_state_universal_waste   1.115983\n",
      "82                     revision_num   1.885647\n",
      "83                  Resubmit_binary   1.245218\n",
      "\n",
      "[84 rows x 2 columns]\n"
     ]
    }
   ],
   "source": [
    "vif_data = pd.DataFrame()\n",
    "vif_data[\"feature\"] = dff.columns\n",
    "vif_data[\"VIF\"] = [variance_inflation_factor(dff.values, i) for i in range(dff.shape[1])]\n",
    "print(vif_data)"
   ]
  },
  {
   "cell_type": "code",
   "execution_count": 28,
   "id": "9e6a8901",
   "metadata": {},
   "outputs": [
    {
     "data": {
      "text/plain": [
       "['IsHaz',\n",
       " 'standard_flag',\n",
       " 'urgent_flag',\n",
       " 'toc_percentage',\n",
       " 'generatorknowledge_ind']"
      ]
     },
     "execution_count": 28,
     "metadata": {},
     "output_type": "execute_result"
    }
   ],
   "source": [
    "high_vif_columns = vif_data[vif_data[\"VIF\"] > 5][\"feature\"].tolist()\n",
    "high_vif_columns"
   ]
  },
  {
   "cell_type": "code",
   "execution_count": 29,
   "id": "6ad3bc54",
   "metadata": {},
   "outputs": [
    {
     "data": {
      "text/plain": [
       "(59378, 79)"
      ]
     },
     "execution_count": 29,
     "metadata": {},
     "output_type": "execute_result"
    }
   ],
   "source": [
    "df_final = dff.drop(columns=high_vif_columns)\n",
    "df_final.shape"
   ]
  },
  {
   "cell_type": "markdown",
   "id": "3c8cf89b",
   "metadata": {},
   "source": [
    "Checking the correlation for top 10 columns "
   ]
  },
  {
   "cell_type": "code",
   "execution_count": 30,
   "id": "e5913b96",
   "metadata": {},
   "outputs": [
    {
     "data": {
      "image/png": "[encoded data removed]",
      "text/plain": [
       "<Figure size 800x800 with 2 Axes>"
      ]
     },
     "metadata": {},
     "output_type": "display_data"
    }
   ],
   "source": [
    "\n",
    "correlation_matrix = df_final.corr()\n",
    "top_correlations = correlation_matrix.unstack().sort_values(ascending=False).drop_duplicates().head(10)\n",
    "top_correlation_columns = list(set([pair[0] for pair in top_correlations.index] + [pair[1] for pair in top_correlations.index]))\n",
    "top_correlation_matrix = correlation_matrix.loc[top_correlation_columns, top_correlation_columns]\n",
    "\n",
    "#Plot the heatmap\n",
    "plt.figure(figsize=(8,8))\n",
    "sns.heatmap(top_correlation_matrix, annot=True, cmap='coolwarm', fmt='.2f', linewidths=0.5)\n",
    "plt.title('Top 10 Correlated Columns Heatmap')\n",
    "plt.show()"
   ]
  },
  {
   "cell_type": "code",
   "execution_count": 31,
   "id": "b1c3f17c",
   "metadata": {},
   "outputs": [
    {
     "data": {
      "image/png": "[encoded data removed]",
      "text/plain": [
       "<Figure size 600x400 with 1 Axes>"
      ]
     },
     "metadata": {},
     "output_type": "display_data"
    }
   ],
   "source": [
    "plt.figure(figsize=(6, 4))\n",
    "sns.countplot(x='Resubmit_binary', data=df_final)\n",
    "plt.title('Count of 0 and 1 class in Resubmit_binary')\n",
    "plt.xlabel('Resubmit_binary')\n",
    "plt.ylabel('Count')\n",
    "plt.show()"
   ]
  },
  {
   "cell_type": "code",
   "execution_count": 32,
   "id": "0b895617",
   "metadata": {},
   "outputs": [],
   "source": [
    "X = df_final.drop('Resubmit_binary', axis=1)\n",
    "y = df_final['Resubmit_binary']\n",
    "X_train, X_test, y_train, y_test = train_test_split(X,y,test_size=0.2,random_state=42)"
   ]
  },
  {
   "cell_type": "markdown",
   "id": "4a9c88ee",
   "metadata": {},
   "source": [
    "Feature selection using entropy typically involves selecting features based on their information gain or entropy."
   ]
  },
  {
   "cell_type": "code",
   "execution_count": 33,
   "id": "ec892609",
   "metadata": {},
   "outputs": [
    {
     "name": "stdout",
     "output_type": "stream",
     "text": [
      "Top Features based on Mutual Information:\n",
      "Index(['sds_attached', 'sds_ind', 'revision_num', 'label_type', 'origin_code',\n",
      "       'odor_flag', 'viscosity', 'federal_universal_waste', 'flash_point_flag',\n",
      "       'pumpable_waste_flag', 'halogens_flag', 'voc_500_ppm', 'cyanides_flag',\n",
      "       'ApprovedTonnage', 'solid_flag', 'voc_100_ppm', 'rcra_non_haz_exempt',\n",
      "       'btu_per_lbs', 'free_liquids_flag', 'gas_flag'],\n",
      "      dtype='object')\n"
     ]
    }
   ],
   "source": [
    "from sklearn.feature_selection import mutual_info_classif\n",
    "mutual_info = pd.Series(mutual_info_classif(X_train, y_train), index=X_train.columns)\n",
    "\n",
    "# Select top features based on mutual information\n",
    "top_features = mutual_info.sort_values(ascending=False).head(20).index\n",
    "\n",
    "# Display top features\n",
    "print(\"Top Features based on Mutual Information:\")\n",
    "print(top_features)"
   ]
  },
  {
   "cell_type": "markdown",
   "id": "b0dfc418",
   "metadata": {},
   "source": [
    "# Logistic Regression"
   ]
  },
  {
   "cell_type": "markdown",
   "id": "2846bb06",
   "metadata": {},
   "source": [
    "Buit the model before balancing the dataset"
   ]
  },
  {
   "cell_type": "code",
   "execution_count": 34,
   "id": "0aa975f2",
   "metadata": {},
   "outputs": [
    {
     "name": "stdout",
     "output_type": "stream",
     "text": [
      "Logistic Regression Training Accuracy: 0.8873100079996632\n",
      "Logistic Regression Testing Accuracy: 0.8817783765577636\n",
      "\n",
      "Precision: 0.4634\n",
      "Recall: 0.0136\n",
      "F1-Score: 0.0264\n"
     ]
    },
    {
     "name": "stderr",
     "output_type": "stream",
     "text": [
      "C:\\Users\\RameshMisale\\anaconda3\\Lib\\site-packages\\sklearn\\linear_model\\_logistic.py:458: ConvergenceWarning: lbfgs failed to converge (status=1):\n",
      "STOP: TOTAL NO. of ITERATIONS REACHED LIMIT.\n",
      "\n",
      "Increase the number of iterations (max_iter) or scale the data as shown in:\n",
      "    https://scikit-learn.org/stable/modules/preprocessing.html\n",
      "Please also refer to the documentation for alternative solver options:\n",
      "    https://scikit-learn.org/stable/modules/linear_model.html#logistic-regression\n",
      "  n_iter_i = _check_optimize_result(\n"
     ]
    }
   ],
   "source": [
    "from sklearn.linear_model import LogisticRegression\n",
    "from sklearn.metrics import precision_score, recall_score, f1_score\n",
    "logistic_regression = LogisticRegression()\n",
    "logistic_regression.fit(X_train, y_train)\n",
    "y_pred_lr_train = logistic_regression.predict(X_train)\n",
    "y_pred_lr_test = logistic_regression.predict(X_test)\n",
    "\n",
    "# Accuracy\n",
    "accuracy_lr_train = accuracy_score(y_train, y_pred_lr_train)\n",
    "accuracy_lr_test = accuracy_score(y_test, y_pred_lr_test)\n",
    "print(f'Logistic Regression Training Accuracy: {accuracy_lr_train}')\n",
    "print(f'Logistic Regression Testing Accuracy: {accuracy_lr_test}')\n",
    "# classification report\n",
    "# print(classification_report(y_test, y_pred_lr_test))\n",
    "# print(confusion_matrix(y_test, y_pred_lr_test)) \n",
    "\n",
    "precision_lr_test = precision_score(y_test, y_pred_lr_test)\n",
    "recall_lr_test = recall_score(y_test, y_pred_lr_test)\n",
    "f1_lr_test = f1_score(y_test, y_pred_lr_test)\n",
    "\n",
    "# Display precision, recall, and f1-score\n",
    "print(f'\\nPrecision: {precision_lr_test:.4f}')\n",
    "print(f'Recall: {recall_lr_test:.4f}')\n",
    "print(f'F1-Score: {f1_lr_test:.4f}')\n",
    "\n"
   ]
  },
  {
   "cell_type": "code",
   "execution_count": 35,
   "id": "cf42e754",
   "metadata": {},
   "outputs": [],
   "source": [
    "# # ROC-AUC curve\n",
    "# from sklearn.metrics import roc_curve, auc\n",
    "# y_prob_lr_test = logistic_regression.predict_proba(X_test)[:, 1]\n",
    "# fpr, tpr, thresholds = roc_curve(y_test, y_prob_lr_test)\n",
    "# roc_auc = auc(fpr, tpr)\n",
    "\n",
    "# # Plot ROC curve\n",
    "# plt.figure(figsize=(4, 4))\n",
    "# plt.plot(fpr, tpr, color='darkorange', lw=2, label=f'ROC curve (area = {roc_auc:.2f})')\n",
    "# plt.plot([0, 1], [0, 1], color='navy', lw=2, linestyle='--')\n",
    "# plt.xlabel('False Positive Rate')\n",
    "# plt.ylabel('True Positive Rate')\n",
    "# plt.title('ROC Curve - Logistic Regression')\n",
    "# plt.legend(loc='lower right')\n",
    "# plt.show()"
   ]
  },
  {
   "cell_type": "markdown",
   "id": "29a54dbc",
   "metadata": {},
   "source": [
    "# DT"
   ]
  },
  {
   "cell_type": "code",
   "execution_count": 36,
   "id": "6131bd95",
   "metadata": {},
   "outputs": [
    {
     "name": "stdout",
     "output_type": "stream",
     "text": [
      "Decision Tree Training Accuracy: 0.8880678708264915\n",
      "Decision Tree Testing Accuracy: 0.8816941731222634\n",
      "\n",
      "Precision: 0.4412\n",
      "Recall: 0.0107\n",
      "F1-Score: 0.0209\n"
     ]
    }
   ],
   "source": [
    "from sklearn.tree import DecisionTreeClassifier\n",
    "decision_tree = DecisionTreeClassifier(criterion='gini',max_depth=5)\n",
    "decision_tree.fit(X_train, y_train)\n",
    "y_pred_dt_train = decision_tree.predict(X_train)\n",
    "y_pred_dt_test = decision_tree.predict(X_test)\n",
    "accuracy_dt_train = accuracy_score(y_train, y_pred_dt_train)\n",
    "accuracy_dt_test = accuracy_score(y_test, y_pred_dt_test)\n",
    "print(f'Decision Tree Training Accuracy: {accuracy_dt_train}')\n",
    "print(f'Decision Tree Testing Accuracy: {accuracy_dt_test}')\n",
    "# # classification report\n",
    "# print(classification_report(y_test, y_pred_dt_test))\n",
    "# print(confusion_matrix(y_test, y_pred_dt_test))\n",
    "\n",
    "precision_dt_test = precision_score(y_test, y_pred_dt_test)\n",
    "recall_dt_test = recall_score(y_test, y_pred_dt_test)\n",
    "f1_dt_test = f1_score(y_test, y_pred_dt_test)\n",
    "\n",
    "# Display precision, recall, and f1-score\n",
    "print(f'\\nPrecision: {precision_dt_test:.4f}')\n",
    "print(f'Recall: {recall_dt_test:.4f}')\n",
    "print(f'F1-Score: {f1_dt_test:.4f}')"
   ]
  },
  {
   "cell_type": "markdown",
   "id": "578d98ab",
   "metadata": {},
   "source": [
    "# Random Forest"
   ]
  },
  {
   "cell_type": "code",
   "execution_count": 37,
   "id": "e66c7211",
   "metadata": {},
   "outputs": [
    {
     "name": "stdout",
     "output_type": "stream",
     "text": [
      "Random Forest Training Accuracy: 0.9755589238347859\n",
      "Random Forest Testing Accuracy: 0.8768945772987538\n",
      "\n",
      "Precision: 0.4173\n",
      "Recall: 0.1099\n",
      "F1-Score: 0.1740\n"
     ]
    }
   ],
   "source": [
    "random_forest = RandomForestClassifier()\n",
    "random_forest.fit(X_train, y_train)\n",
    "y_pred_rf_train = random_forest.predict(X_train)\n",
    "y_pred_rf_test = random_forest.predict(X_test)\n",
    "accuracy_rf_train = accuracy_score(y_train, y_pred_rf_train)\n",
    "accuracy_rf_test = accuracy_score(y_test, y_pred_rf_test)\n",
    "print(f'Random Forest Training Accuracy: {accuracy_rf_train}')\n",
    "print(f'Random Forest Testing Accuracy: {accuracy_rf_test}')\n",
    "\n",
    "# classification report\n",
    "# print(classification_report(y_test, y_pred_rf_test))\n",
    "# print(confusion_matrix(y_test, y_pred_rf_test))\n",
    "\n",
    "precision_rf_test = precision_score(y_test, y_pred_rf_test)\n",
    "recall_rf_test = recall_score(y_test, y_pred_rf_test)\n",
    "f1_rf_test = f1_score(y_test, y_pred_rf_test)\n",
    "\n",
    "# Display precision, recall, and f1-score\n",
    "print(f'\\nPrecision: {precision_rf_test:.4f}')\n",
    "print(f'Recall: {recall_rf_test:.4f}')\n",
    "print(f'F1-Score: {f1_rf_test:.4f}')"
   ]
  },
  {
   "cell_type": "markdown",
   "id": "fcaf2db3",
   "metadata": {},
   "source": [
    "#  Under-sampling"
   ]
  },
  {
   "cell_type": "code",
   "execution_count": 38,
   "id": "fa49ebc5",
   "metadata": {},
   "outputs": [],
   "source": [
    "XX = df_final.drop('Resubmit_binary', axis='columns')\n",
    "yy= df_final['Resubmit_binary']\n",
    "XX_train, XX_test, yy_train, yy_test = train_test_split(XX,yy, test_size=0.2,random_state=42,stratify=yy)"
   ]
  },
  {
   "cell_type": "code",
   "execution_count": 39,
   "id": "8fb51921",
   "metadata": {},
   "outputs": [],
   "source": [
    "count_0_class,count_1_class = df_final.Resubmit_binary.value_counts()\n",
    "df_class_0 = df_final[df_final[\"Resubmit_binary\"]==0]\n",
    "df_class_1 = df_final[df_final[\"Resubmit_binary\"]==1]\n",
    "X_train, X_test, y_train, y_test = train_test_split(XX,yy, test_size=0.2,random_state=15,stratify=yy)"
   ]
  },
  {
   "cell_type": "code",
   "execution_count": 40,
   "id": "147bebc7",
   "metadata": {},
   "outputs": [],
   "source": [
    "# count_0_class_under = int(count_0_class*0.2)\n",
    "# df_class_0_under = df_class_0.sample(count_0_class_under)\n",
    "# df_test_under = pd.concat([df_class_0_under, df_class_1], axis=0)\n",
    "\n",
    "# print('Random Under-sampling:')\n",
    "# print(df_test_under.Resubmit_binary.value_counts())"
   ]
  },
  {
   "cell_type": "code",
   "execution_count": 41,
   "id": "e5a56b85",
   "metadata": {},
   "outputs": [
    {
     "data": {
      "text/plain": [
       "(52621, 79)"
      ]
     },
     "execution_count": 41,
     "metadata": {},
     "output_type": "execute_result"
    }
   ],
   "source": [
    "df_class_0.shape"
   ]
  },
  {
   "cell_type": "code",
   "execution_count": 42,
   "id": "becdde10",
   "metadata": {},
   "outputs": [
    {
     "data": {
      "text/plain": [
       "(6757, 79)"
      ]
     },
     "execution_count": 42,
     "metadata": {},
     "output_type": "execute_result"
    }
   ],
   "source": [
    "df_class_1.shape"
   ]
  },
  {
   "cell_type": "code",
   "execution_count": 43,
   "id": "d65b26c6",
   "metadata": {},
   "outputs": [
    {
     "data": {
      "text/plain": [
       "(52621, 6757)"
      ]
     },
     "execution_count": 43,
     "metadata": {},
     "output_type": "execute_result"
    }
   ],
   "source": [
    "count_0_class,count_1_class"
   ]
  },
  {
   "cell_type": "code",
   "execution_count": 44,
   "id": "25850f0c",
   "metadata": {},
   "outputs": [
    {
     "name": "stdout",
     "output_type": "stream",
     "text": [
      "Random Under-sampling:\n",
      "0    6757\n",
      "1    6757\n",
      "Name: Resubmit_binary, dtype: int64\n"
     ]
    }
   ],
   "source": [
    "df_class_0_under = df_class_0.sample(count_1_class)\n",
    "df_test_under = pd.concat([df_class_0_under, df_class_1],axis=0)\n",
    "\n",
    "print('Random Under-sampling:')\n",
    "print(df_test_under.Resubmit_binary.value_counts())"
   ]
  },
  {
   "cell_type": "code",
   "execution_count": 45,
   "id": "5dba5f4a",
   "metadata": {},
   "outputs": [],
   "source": [
    "XX = df_test_under.drop('Resubmit_binary', axis='columns')\n",
    "yy= df_test_under['Resubmit_binary']\n",
    "XX_train, XX_test, yy_train, yy_test = train_test_split(XX,yy, test_size=0.2,random_state=42,stratify=yy)"
   ]
  },
  {
   "cell_type": "code",
   "execution_count": 46,
   "id": "8fbc6df4",
   "metadata": {},
   "outputs": [
    {
     "data": {
      "text/plain": [
       "1    5406\n",
       "0    5405\n",
       "Name: Resubmit_binary, dtype: int64"
      ]
     },
     "execution_count": 46,
     "metadata": {},
     "output_type": "execute_result"
    }
   ],
   "source": [
    "yy_train.value_counts()"
   ]
  },
  {
   "cell_type": "code",
   "execution_count": 47,
   "id": "a21090f9",
   "metadata": {},
   "outputs": [
    {
     "data": {
      "text/plain": [
       "0    1352\n",
       "1    1351\n",
       "Name: Resubmit_binary, dtype: int64"
      ]
     },
     "execution_count": 47,
     "metadata": {},
     "output_type": "execute_result"
    }
   ],
   "source": [
    "yy_test.value_counts()"
   ]
  },
  {
   "cell_type": "markdown",
   "id": "383edfec",
   "metadata": {},
   "source": [
    "# Logistic_regression"
   ]
  },
  {
   "cell_type": "code",
   "execution_count": 48,
   "id": "5017f6bd",
   "metadata": {},
   "outputs": [
    {
     "name": "stdout",
     "output_type": "stream",
     "text": [
      "Logistic Regression Training Accuracy: 0.6937378595874573\n",
      "Logistic Regression Testing Accuracy: 0.7018128005919348\n",
      "\n",
      "Precision: 0.6891\n",
      "Recall: 0.7350\n",
      "F1-Score: 0.7113\n"
     ]
    },
    {
     "name": "stderr",
     "output_type": "stream",
     "text": [
      "C:\\Users\\RameshMisale\\anaconda3\\Lib\\site-packages\\sklearn\\linear_model\\_logistic.py:458: ConvergenceWarning: lbfgs failed to converge (status=1):\n",
      "STOP: TOTAL NO. of ITERATIONS REACHED LIMIT.\n",
      "\n",
      "Increase the number of iterations (max_iter) or scale the data as shown in:\n",
      "    https://scikit-learn.org/stable/modules/preprocessing.html\n",
      "Please also refer to the documentation for alternative solver options:\n",
      "    https://scikit-learn.org/stable/modules/linear_model.html#logistic-regression\n",
      "  n_iter_i = _check_optimize_result(\n"
     ]
    }
   ],
   "source": [
    "from sklearn.metrics import precision_score, recall_score, f1_score\n",
    "logistic_regression = LogisticRegression()\n",
    "logistic_regression.fit(XX_train, yy_train)\n",
    "y_pred_lr_train = logistic_regression.predict(XX_train)\n",
    "y_pred_lr_test = logistic_regression.predict(XX_test)\n",
    "\n",
    "# Accuracy\n",
    "accuracy_lr_train = accuracy_score(yy_train, y_pred_lr_train)\n",
    "accuracy_lr_test = accuracy_score(yy_test, y_pred_lr_test)\n",
    "print(f'Logistic Regression Training Accuracy: {accuracy_lr_train}')\n",
    "print(f'Logistic Regression Testing Accuracy: {accuracy_lr_test}')\n",
    "\n",
    "# # classification report\n",
    "# print(classification_report(yy_test, y_pred_lr_test))\n",
    "# print(confusion_matrix(yy_test, y_pred_lr_test))\n",
    "\n",
    "precision_lr_test = precision_score(yy_test, y_pred_lr_test)\n",
    "recall_lr_test = recall_score(yy_test, y_pred_lr_test)\n",
    "f1_lr_test = f1_score(yy_test, y_pred_lr_test)\n",
    "\n",
    "# Display precision, recall, and f1-score\n",
    "print(f'\\nPrecision: {precision_lr_test:.4f}')\n",
    "print(f'Recall: {recall_lr_test:.4f}')\n",
    "print(f'F1-Score: {f1_lr_test:.4f}')\n"
   ]
  },
  {
   "cell_type": "code",
   "execution_count": 49,
   "id": "e1d34a5a",
   "metadata": {},
   "outputs": [
    {
     "data": {
      "image/png": "[encoded data removed]",
      "text/plain": [
       "<Figure size 400x400 with 1 Axes>"
      ]
     },
     "metadata": {},
     "output_type": "display_data"
    }
   ],
   "source": [
    "# ROC-AUC curve\n",
    "from sklearn.metrics import roc_curve, auc\n",
    "y_prob_lr_test = logistic_regression.predict_proba(XX_test)[:, 1]\n",
    "fpr, tpr, thresholds = roc_curve(yy_test, y_prob_lr_test)\n",
    "roc_auc = auc(fpr, tpr)\n",
    "\n",
    "# Plot ROC curve\n",
    "plt.figure(figsize=(4, 4))\n",
    "plt.plot(fpr, tpr, color='darkorange', lw=2, label=f'ROC curve (area = {roc_auc:.2f})')\n",
    "plt.plot([0, 1], [0, 1], color='navy', lw=2, linestyle='--')\n",
    "plt.xlabel('False Positive Rate')\n",
    "plt.ylabel('True Positive Rate')\n",
    "plt.title('ROC Curve - Logistic Regression')\n",
    "plt.legend(loc='lower right')\n",
    "plt.show()"
   ]
  },
  {
   "cell_type": "markdown",
   "id": "cc8dd5e7",
   "metadata": {},
   "source": [
    "# Decision_tree"
   ]
  },
  {
   "cell_type": "code",
   "execution_count": 50,
   "id": "642c1bab",
   "metadata": {},
   "outputs": [
    {
     "name": "stdout",
     "output_type": "stream",
     "text": [
      "Decision Tree Training Accuracy: 0.6910554065303857\n",
      "Decision Tree Testing Accuracy: 0.7029226785053644\n",
      "              precision    recall  f1-score   support\n",
      "\n",
      "           0       0.70      0.72      0.71      1352\n",
      "           1       0.71      0.69      0.70      1351\n",
      "\n",
      "    accuracy                           0.70      2703\n",
      "   macro avg       0.70      0.70      0.70      2703\n",
      "weighted avg       0.70      0.70      0.70      2703\n",
      "\n",
      "[[967 385]\n",
      " [418 933]]\n",
      "\n",
      "Precision: 0.7079\n",
      "Recall: 0.6906\n",
      "F1-Score: 0.6991\n"
     ]
    }
   ],
   "source": [
    "from sklearn.tree import DecisionTreeClassifier\n",
    "\n",
    "decision_tree = DecisionTreeClassifier(criterion='gini',max_depth=5)\n",
    "decision_tree.fit(XX_train, yy_train)\n",
    "y_pred_dt_train = decision_tree.predict(XX_train)\n",
    "y_pred_dt_test = decision_tree.predict(XX_test)\n",
    "accuracy_dt_train = accuracy_score(yy_train, y_pred_dt_train)\n",
    "accuracy_dt_test = accuracy_score(yy_test, y_pred_dt_test)\n",
    "print(f'Decision Tree Training Accuracy: {accuracy_dt_train}')\n",
    "print(f'Decision Tree Testing Accuracy: {accuracy_dt_test}')\n",
    "\n",
    "# classification report\n",
    "print(classification_report(yy_test, y_pred_dt_test))\n",
    "print(confusion_matrix(yy_test, y_pred_dt_test))\n",
    "\n",
    "\n",
    "precision_dt_test = precision_score(yy_test, y_pred_dt_test)\n",
    "recall_dt_test = recall_score(yy_test, y_pred_dt_test)\n",
    "f1_dt_test = f1_score(yy_test, y_pred_dt_test)\n",
    "\n",
    "# Display precision, recall, and f1-score\n",
    "print(f'\\nPrecision: {precision_dt_test:.4f}')\n",
    "print(f'Recall: {recall_dt_test:.4f}')\n",
    "print(f'F1-Score: {f1_dt_test:.4f}')"
   ]
  },
  {
   "cell_type": "code",
   "execution_count": 51,
   "id": "4e2c4fcc",
   "metadata": {},
   "outputs": [
    {
     "data": {
      "image/png": "[encoded data removed]",
      "text/plain": [
       "<Figure size 400x400 with 1 Axes>"
      ]
     },
     "metadata": {},
     "output_type": "display_data"
    }
   ],
   "source": [
    "# ROC-AUC curve\n",
    "from sklearn.metrics import roc_curve, auc\n",
    "y_prob_dt_test = decision_tree.predict_proba(XX_test)[:, 1]\n",
    "fpr, tpr, thresholds = roc_curve(yy_test, y_prob_dt_test)\n",
    "roc_auc = auc(fpr, tpr)\n",
    "\n",
    "# Plot ROC curve\n",
    "plt.figure(figsize=(4, 4))\n",
    "plt.plot(fpr, tpr, color='darkorange', lw=2, label=f'ROC curve (area = {roc_auc:.2f})')\n",
    "plt.plot([0, 1], [0, 1], color='navy', lw=2, linestyle='--')\n",
    "plt.xlabel('False Positive Rate')\n",
    "plt.ylabel('True Positive Rate')\n",
    "plt.title('ROC Curve -Decision Tree')\n",
    "plt.legend(loc='lower right')\n",
    "plt.show()"
   ]
  },
  {
   "cell_type": "markdown",
   "id": "71c3ad0a",
   "metadata": {},
   "source": [
    "# Random_forest"
   ]
  },
  {
   "cell_type": "code",
   "execution_count": 52,
   "id": "1ea8d55a",
   "metadata": {},
   "outputs": [
    {
     "name": "stdout",
     "output_type": "stream",
     "text": [
      "Random Forest Training Accuracy: 0.7430394968088059\n",
      "Random Forest Testing Accuracy: 0.7321494635590086\n",
      "\n",
      "Precision: 0.7219\n",
      "Recall: 0.7550\n",
      "F1-Score: 0.7381\n"
     ]
    }
   ],
   "source": [
    "random_forest1 = RandomForestClassifier(n_estimators=100,max_depth=10,criterion='gini')\n",
    "random_forest1.fit(XX_train, yy_train)\n",
    "y_pred_rf_train = random_forest1.predict(XX_train)\n",
    "y_pred_rf_test = random_forest1.predict(XX_test)\n",
    "accuracy_rf_train = accuracy_score(yy_train, y_pred_rf_train)\n",
    "accuracy_rf_test = accuracy_score(yy_test, y_pred_rf_test)\n",
    "print(f'Random Forest Training Accuracy: {accuracy_rf_train}')\n",
    "print(f'Random Forest Testing Accuracy: {accuracy_rf_test}')\n",
    "# # classification report\n",
    "# print(classification_report(yy_test, y_pred_rf_test))\n",
    "# print(confusion_matrix(yy_test, y_pred_rf_test))\n",
    "\n",
    "precision_rf_test = precision_score(yy_test, y_pred_rf_test)\n",
    "recall_rf_test = recall_score(yy_test, y_pred_rf_test)\n",
    "f1_rf_test = f1_score(yy_test, y_pred_rf_test)\n",
    "\n",
    "# Display precision, recall, and f1-score\n",
    "print(f'\\nPrecision: {precision_rf_test:.4f}')\n",
    "print(f'Recall: {recall_rf_test:.4f}')\n",
    "print(f'F1-Score: {f1_rf_test:.4f}')"
   ]
  },
  {
   "cell_type": "code",
   "execution_count": 53,
   "id": "2ef5de43",
   "metadata": {},
   "outputs": [
    {
     "data": {
      "image/png": "[encoded data removed]",
      "text/plain": [
       "<Figure size 400x400 with 1 Axes>"
      ]
     },
     "metadata": {},
     "output_type": "display_data"
    }
   ],
   "source": [
    "# ROC-AUC curve\n",
    "from sklearn.metrics import roc_curve, auc\n",
    "y_prob_rf_test = random_forest1.predict_proba(XX_test)[:, 1]\n",
    "fpr, tpr, thresholds = roc_curve(yy_test, y_prob_rf_test)\n",
    "roc_auc = auc(fpr, tpr)\n",
    "\n",
    "# Plot ROC curve\n",
    "plt.figure(figsize=(4, 4))\n",
    "plt.plot(fpr, tpr, color='darkorange', lw=2, label=f'ROC curve (area = {roc_auc:.2f})')\n",
    "plt.plot([0, 1], [0, 1], color='navy', lw=2, linestyle='--')\n",
    "plt.xlabel('False Positive Rate')\n",
    "plt.ylabel('True Positive Rate')\n",
    "plt.title('ROC Curve -Random forest')\n",
    "plt.legend(loc='lower right')\n",
    "plt.show()"
   ]
  },
  {
   "cell_type": "markdown",
   "id": "af5ec063",
   "metadata": {},
   "source": [
    "# Gaussian Naive Bayes classifier"
   ]
  },
  {
   "cell_type": "code",
   "execution_count": 54,
   "id": "af552c8c",
   "metadata": {},
   "outputs": [
    {
     "name": "stdout",
     "output_type": "stream",
     "text": [
      "Naive Bayes Training Accuracy: 0.6071\n",
      "Naive Bayes Testing Accuracy: 0.6067\n",
      "\n",
      "Precision: 0.5629\n",
      "Recall: 0.9541\n",
      "F1-Score: 0.7080\n"
     ]
    }
   ],
   "source": [
    "from sklearn.naive_bayes import GaussianNB\n",
    "naive_bayes = GaussianNB()\n",
    "naive_bayes.fit(XX_train, yy_train)\n",
    "y_pred_nb_train = naive_bayes.predict(XX_train)\n",
    "y_pred_nb_test = naive_bayes.predict(XX_test)\n",
    "\n",
    "# Accuracy\n",
    "accuracy_nb_train = accuracy_score(yy_train, y_pred_nb_train)\n",
    "accuracy_nb_test = accuracy_score(yy_test, y_pred_nb_test)\n",
    "print(f'Naive Bayes Training Accuracy: {accuracy_nb_train:.4f}')\n",
    "print(f'Naive Bayes Testing Accuracy: {accuracy_nb_test:.4f}')\n",
    "\n",
    "# Precision, Recall, and F1-Score\n",
    "precision_nb_test = precision_score(yy_test, y_pred_nb_test)\n",
    "recall_nb_test = recall_score(yy_test, y_pred_nb_test)\n",
    "f1_nb_test = f1_score(yy_test, y_pred_nb_test)\n",
    "\n",
    "# Display precision, recall, and f1-score\n",
    "print(f'\\nPrecision: {precision_nb_test:.4f}')\n",
    "print(f'Recall: {recall_nb_test:.4f}')\n",
    "print(f'F1-Score: {f1_nb_test:.4f}')\n"
   ]
  },
  {
   "cell_type": "markdown",
   "id": "5120ff22",
   "metadata": {},
   "source": [
    "# KNeighborsClassifier"
   ]
  },
  {
   "cell_type": "code",
   "execution_count": 55,
   "id": "414bcb58",
   "metadata": {},
   "outputs": [
    {
     "name": "stdout",
     "output_type": "stream",
     "text": [
      "KNN Training Accuracy: 0.7398\n",
      "KNN Testing Accuracy: 0.6667\n",
      "\n",
      "Precision: 0.6539\n",
      "Recall: 0.7076\n",
      "F1-Score: 0.6797\n"
     ]
    }
   ],
   "source": [
    "from sklearn.neighbors import KNeighborsClassifier\n",
    "k_neighbors = 7\n",
    "knn_classifier = KNeighborsClassifier(n_neighbors=k_neighbors)\n",
    "knn_classifier.fit(XX_train, yy_train)\n",
    "y_pred_knn_train = knn_classifier.predict(XX_train)\n",
    "\n",
    "# Predictions on the test set\n",
    "y_pred_knn_test = knn_classifier.predict(XX_test)\n",
    "\n",
    "# Accuracy\n",
    "accuracy_knn_train = accuracy_score(yy_train, y_pred_knn_train)\n",
    "accuracy_knn_test = accuracy_score(yy_test, y_pred_knn_test)\n",
    "print(f'KNN Training Accuracy: {accuracy_knn_train:.4f}')\n",
    "print(f'KNN Testing Accuracy: {accuracy_knn_test:.4f}')\n",
    "\n",
    "# Precision, Recall, and F1-Score\n",
    "precision_knn_test = precision_score(yy_test, y_pred_knn_test)\n",
    "recall_knn_test = recall_score(yy_test, y_pred_knn_test)\n",
    "f1_knn_test = f1_score(yy_test, y_pred_knn_test)\n",
    "\n",
    "# Display precision, recall, and f1-score\n",
    "print(f'\\nPrecision: {precision_knn_test:.4f}')\n",
    "print(f'Recall: {recall_knn_test:.4f}')\n",
    "print(f'F1-Score: {f1_knn_test:.4f}')\n"
   ]
  },
  {
   "cell_type": "code",
   "execution_count": 72,
   "id": "9ad1e238",
   "metadata": {},
   "outputs": [],
   "source": [
    "#!pip install pycaret --user"
   ]
  },
  {
   "cell_type": "code",
   "execution_count": 73,
   "id": "e25f98a0",
   "metadata": {},
   "outputs": [],
   "source": [
    "#!pip install pycaret"
   ]
  },
  {
   "cell_type": "code",
   "execution_count": 183,
   "id": "311a85a0",
   "metadata": {},
   "outputs": [],
   "source": [
    "# import os\n",
    "# from pycaret.classification import *\n",
    "# clf1 = setup(data=df_test_under, target='Resubmit_binary')\n",
    "# best_model = compare_models()\n",
    "# print(best_model)\n",
    "# final_model = create_model(best_model)\n",
    "# evaluate_model(final_model)\n"
   ]
  },
  {
   "cell_type": "markdown",
   "id": "1a0bc4c2",
   "metadata": {},
   "source": [
    "# Feature importance"
   ]
  },
  {
   "cell_type": "markdown",
   "id": "6630c2c3",
   "metadata": {},
   "source": [
    "Feature importance is a concept used in machine learning to quantify the impact or contribution of each feature (or variable) in a predictive model. \n",
    "It provides insights into which features are most influential in making predictions.\n",
    "\n",
    "Features with higher importance values are considered more influential in predicting the target variable."
   ]
  },
  {
   "cell_type": "code",
   "execution_count": null,
   "id": "62fedb7a",
   "metadata": {},
   "outputs": [],
   "source": [
    "#feature_importance= dict(zip(random_forest.feature_names_in_,[round(i,4) for i in random_forest.feature_importances_]))\n",
    "# select the top 10 features and give it to the model top 20, top30  store in 3 dataframes "
   ]
  },
  {
   "cell_type": "code",
   "execution_count": 56,
   "id": "af1485b2",
   "metadata": {},
   "outputs": [
    {
     "name": "stdout",
     "output_type": "stream",
     "text": [
      "Selected Features:\n",
      "['outbound_profile_ind', 'isRecertified', 'rush_flag', 'rcra_non_haz_exempt', 'halogens_flag', 'solid_flag', 'free_liquids_flag', 'viscosity', 'odor_flag', 'flash_point_flag', 'btu_per_lbs', 'pumpable_waste_flag', 'voc_100_ppm', 'ApprovedTonnage', 'origin_code', 'sds_attached', 'specific_gravity', 'prohibited_land_disposal', 'voc_500_ppm', 'national_flag', 'pa_waste_catogory', 'water_percentage', 'sds_ind', 'analytical_attached', 'label_type', 'federal_universal_waste', 'revision_num']\n",
      "\n",
      "DataFrame with Selected Features:\n"
     ]
    },
    {
     "data": {
      "text/html": [
       "<div>\n",
       "<style scoped>\n",
       "    .dataframe tbody tr th:only-of-type {\n",
       "        vertical-align: middle;\n",
       "    }\n",
       "\n",
       "    .dataframe tbody tr th {\n",
       "        vertical-align: top;\n",
       "    }\n",
       "\n",
       "    .dataframe thead th {\n",
       "        text-align: right;\n",
       "    }\n",
       "</style>\n",
       "<table border=\"1\" class=\"dataframe\">\n",
       "  <thead>\n",
       "    <tr style=\"text-align: right;\">\n",
       "      <th></th>\n",
       "      <th>outbound_profile_ind</th>\n",
       "      <th>isRecertified</th>\n",
       "      <th>rush_flag</th>\n",
       "      <th>rcra_non_haz_exempt</th>\n",
       "      <th>halogens_flag</th>\n",
       "      <th>solid_flag</th>\n",
       "      <th>free_liquids_flag</th>\n",
       "      <th>viscosity</th>\n",
       "      <th>odor_flag</th>\n",
       "      <th>flash_point_flag</th>\n",
       "      <th>...</th>\n",
       "      <th>prohibited_land_disposal</th>\n",
       "      <th>voc_500_ppm</th>\n",
       "      <th>national_flag</th>\n",
       "      <th>pa_waste_catogory</th>\n",
       "      <th>water_percentage</th>\n",
       "      <th>sds_ind</th>\n",
       "      <th>analytical_attached</th>\n",
       "      <th>label_type</th>\n",
       "      <th>federal_universal_waste</th>\n",
       "      <th>revision_num</th>\n",
       "    </tr>\n",
       "  </thead>\n",
       "  <tbody>\n",
       "    <tr>\n",
       "      <th>0</th>\n",
       "      <td>0</td>\n",
       "      <td>1</td>\n",
       "      <td>0.0</td>\n",
       "      <td>0.0</td>\n",
       "      <td>0.0</td>\n",
       "      <td>0.0</td>\n",
       "      <td>0.0</td>\n",
       "      <td>1.0</td>\n",
       "      <td>1.0</td>\n",
       "      <td>6.0</td>\n",
       "      <td>...</td>\n",
       "      <td>0.0</td>\n",
       "      <td>0.0</td>\n",
       "      <td>0.0</td>\n",
       "      <td>0.0</td>\n",
       "      <td>60.000000</td>\n",
       "      <td>1.0</td>\n",
       "      <td>0.0</td>\n",
       "      <td>1.0</td>\n",
       "      <td>0.0</td>\n",
       "      <td>1</td>\n",
       "    </tr>\n",
       "    <tr>\n",
       "      <th>1</th>\n",
       "      <td>0</td>\n",
       "      <td>1</td>\n",
       "      <td>1.0</td>\n",
       "      <td>0.0</td>\n",
       "      <td>0.0</td>\n",
       "      <td>0.0</td>\n",
       "      <td>0.0</td>\n",
       "      <td>1.0</td>\n",
       "      <td>1.0</td>\n",
       "      <td>0.0</td>\n",
       "      <td>...</td>\n",
       "      <td>0.0</td>\n",
       "      <td>1.0</td>\n",
       "      <td>1.0</td>\n",
       "      <td>7.0</td>\n",
       "      <td>10.000000</td>\n",
       "      <td>1.0</td>\n",
       "      <td>0.0</td>\n",
       "      <td>1.0</td>\n",
       "      <td>0.0</td>\n",
       "      <td>1</td>\n",
       "    </tr>\n",
       "    <tr>\n",
       "      <th>2</th>\n",
       "      <td>0</td>\n",
       "      <td>1</td>\n",
       "      <td>0.0</td>\n",
       "      <td>0.0</td>\n",
       "      <td>1.0</td>\n",
       "      <td>0.0</td>\n",
       "      <td>0.0</td>\n",
       "      <td>1.0</td>\n",
       "      <td>0.0</td>\n",
       "      <td>0.0</td>\n",
       "      <td>...</td>\n",
       "      <td>0.0</td>\n",
       "      <td>0.0</td>\n",
       "      <td>0.0</td>\n",
       "      <td>9.0</td>\n",
       "      <td>0.000000</td>\n",
       "      <td>1.0</td>\n",
       "      <td>0.0</td>\n",
       "      <td>3.0</td>\n",
       "      <td>0.0</td>\n",
       "      <td>1</td>\n",
       "    </tr>\n",
       "    <tr>\n",
       "      <th>3</th>\n",
       "      <td>0</td>\n",
       "      <td>0</td>\n",
       "      <td>0.0</td>\n",
       "      <td>0.0</td>\n",
       "      <td>0.0</td>\n",
       "      <td>0.0</td>\n",
       "      <td>0.0</td>\n",
       "      <td>3.0</td>\n",
       "      <td>0.0</td>\n",
       "      <td>0.0</td>\n",
       "      <td>...</td>\n",
       "      <td>0.0</td>\n",
       "      <td>0.0</td>\n",
       "      <td>0.0</td>\n",
       "      <td>0.0</td>\n",
       "      <td>12.529263</td>\n",
       "      <td>0.0</td>\n",
       "      <td>0.0</td>\n",
       "      <td>0.0</td>\n",
       "      <td>0.0</td>\n",
       "      <td>0</td>\n",
       "    </tr>\n",
       "    <tr>\n",
       "      <th>4</th>\n",
       "      <td>0</td>\n",
       "      <td>1</td>\n",
       "      <td>0.0</td>\n",
       "      <td>0.0</td>\n",
       "      <td>0.0</td>\n",
       "      <td>0.0</td>\n",
       "      <td>0.0</td>\n",
       "      <td>3.0</td>\n",
       "      <td>0.0</td>\n",
       "      <td>5.0</td>\n",
       "      <td>...</td>\n",
       "      <td>1.0</td>\n",
       "      <td>0.0</td>\n",
       "      <td>0.0</td>\n",
       "      <td>5.0</td>\n",
       "      <td>0.000000</td>\n",
       "      <td>1.0</td>\n",
       "      <td>0.0</td>\n",
       "      <td>7.0</td>\n",
       "      <td>1.0</td>\n",
       "      <td>1</td>\n",
       "    </tr>\n",
       "    <tr>\n",
       "      <th>...</th>\n",
       "      <td>...</td>\n",
       "      <td>...</td>\n",
       "      <td>...</td>\n",
       "      <td>...</td>\n",
       "      <td>...</td>\n",
       "      <td>...</td>\n",
       "      <td>...</td>\n",
       "      <td>...</td>\n",
       "      <td>...</td>\n",
       "      <td>...</td>\n",
       "      <td>...</td>\n",
       "      <td>...</td>\n",
       "      <td>...</td>\n",
       "      <td>...</td>\n",
       "      <td>...</td>\n",
       "      <td>...</td>\n",
       "      <td>...</td>\n",
       "      <td>...</td>\n",
       "      <td>...</td>\n",
       "      <td>...</td>\n",
       "      <td>...</td>\n",
       "    </tr>\n",
       "    <tr>\n",
       "      <th>59373</th>\n",
       "      <td>0</td>\n",
       "      <td>0</td>\n",
       "      <td>0.0</td>\n",
       "      <td>0.0</td>\n",
       "      <td>0.0</td>\n",
       "      <td>0.0</td>\n",
       "      <td>0.0</td>\n",
       "      <td>0.0</td>\n",
       "      <td>1.0</td>\n",
       "      <td>1.0</td>\n",
       "      <td>...</td>\n",
       "      <td>0.0</td>\n",
       "      <td>0.0</td>\n",
       "      <td>0.0</td>\n",
       "      <td>0.0</td>\n",
       "      <td>12.529263</td>\n",
       "      <td>1.0</td>\n",
       "      <td>0.0</td>\n",
       "      <td>1.0</td>\n",
       "      <td>0.0</td>\n",
       "      <td>0</td>\n",
       "    </tr>\n",
       "    <tr>\n",
       "      <th>59374</th>\n",
       "      <td>0</td>\n",
       "      <td>0</td>\n",
       "      <td>0.0</td>\n",
       "      <td>0.0</td>\n",
       "      <td>0.0</td>\n",
       "      <td>0.0</td>\n",
       "      <td>0.0</td>\n",
       "      <td>1.0</td>\n",
       "      <td>2.0</td>\n",
       "      <td>0.0</td>\n",
       "      <td>...</td>\n",
       "      <td>0.0</td>\n",
       "      <td>0.0</td>\n",
       "      <td>0.0</td>\n",
       "      <td>0.0</td>\n",
       "      <td>50.000000</td>\n",
       "      <td>1.0</td>\n",
       "      <td>0.0</td>\n",
       "      <td>1.0</td>\n",
       "      <td>0.0</td>\n",
       "      <td>0</td>\n",
       "    </tr>\n",
       "    <tr>\n",
       "      <th>59375</th>\n",
       "      <td>0</td>\n",
       "      <td>0</td>\n",
       "      <td>0.0</td>\n",
       "      <td>0.0</td>\n",
       "      <td>1.0</td>\n",
       "      <td>0.0</td>\n",
       "      <td>0.0</td>\n",
       "      <td>0.0</td>\n",
       "      <td>0.0</td>\n",
       "      <td>0.0</td>\n",
       "      <td>...</td>\n",
       "      <td>0.0</td>\n",
       "      <td>0.0</td>\n",
       "      <td>0.0</td>\n",
       "      <td>0.0</td>\n",
       "      <td>0.000000</td>\n",
       "      <td>0.0</td>\n",
       "      <td>0.0</td>\n",
       "      <td>7.0</td>\n",
       "      <td>1.0</td>\n",
       "      <td>3</td>\n",
       "    </tr>\n",
       "    <tr>\n",
       "      <th>59376</th>\n",
       "      <td>0</td>\n",
       "      <td>0</td>\n",
       "      <td>0.0</td>\n",
       "      <td>0.0</td>\n",
       "      <td>0.0</td>\n",
       "      <td>0.0</td>\n",
       "      <td>0.0</td>\n",
       "      <td>1.0</td>\n",
       "      <td>0.0</td>\n",
       "      <td>1.0</td>\n",
       "      <td>...</td>\n",
       "      <td>0.0</td>\n",
       "      <td>0.0</td>\n",
       "      <td>0.0</td>\n",
       "      <td>0.0</td>\n",
       "      <td>48.000000</td>\n",
       "      <td>1.0</td>\n",
       "      <td>0.0</td>\n",
       "      <td>1.0</td>\n",
       "      <td>0.0</td>\n",
       "      <td>0</td>\n",
       "    </tr>\n",
       "    <tr>\n",
       "      <th>59377</th>\n",
       "      <td>0</td>\n",
       "      <td>0</td>\n",
       "      <td>0.0</td>\n",
       "      <td>0.0</td>\n",
       "      <td>0.0</td>\n",
       "      <td>0.0</td>\n",
       "      <td>0.0</td>\n",
       "      <td>3.0</td>\n",
       "      <td>1.0</td>\n",
       "      <td>4.0</td>\n",
       "      <td>...</td>\n",
       "      <td>0.0</td>\n",
       "      <td>1.0</td>\n",
       "      <td>0.0</td>\n",
       "      <td>0.0</td>\n",
       "      <td>25.000000</td>\n",
       "      <td>0.0</td>\n",
       "      <td>0.0</td>\n",
       "      <td>1.0</td>\n",
       "      <td>0.0</td>\n",
       "      <td>3</td>\n",
       "    </tr>\n",
       "  </tbody>\n",
       "</table>\n",
       "<p>59378 rows × 27 columns</p>\n",
       "</div>"
      ],
      "text/plain": [
       "       outbound_profile_ind  isRecertified  rush_flag  rcra_non_haz_exempt  \\\n",
       "0                         0              1        0.0                  0.0   \n",
       "1                         0              1        1.0                  0.0   \n",
       "2                         0              1        0.0                  0.0   \n",
       "3                         0              0        0.0                  0.0   \n",
       "4                         0              1        0.0                  0.0   \n",
       "...                     ...            ...        ...                  ...   \n",
       "59373                     0              0        0.0                  0.0   \n",
       "59374                     0              0        0.0                  0.0   \n",
       "59375                     0              0        0.0                  0.0   \n",
       "59376                     0              0        0.0                  0.0   \n",
       "59377                     0              0        0.0                  0.0   \n",
       "\n",
       "       halogens_flag  solid_flag  free_liquids_flag  viscosity  odor_flag  \\\n",
       "0                0.0         0.0                0.0        1.0        1.0   \n",
       "1                0.0         0.0                0.0        1.0        1.0   \n",
       "2                1.0         0.0                0.0        1.0        0.0   \n",
       "3                0.0         0.0                0.0        3.0        0.0   \n",
       "4                0.0         0.0                0.0        3.0        0.0   \n",
       "...              ...         ...                ...        ...        ...   \n",
       "59373            0.0         0.0                0.0        0.0        1.0   \n",
       "59374            0.0         0.0                0.0        1.0        2.0   \n",
       "59375            1.0         0.0                0.0        0.0        0.0   \n",
       "59376            0.0         0.0                0.0        1.0        0.0   \n",
       "59377            0.0         0.0                0.0        3.0        1.0   \n",
       "\n",
       "       flash_point_flag  ...  prohibited_land_disposal  voc_500_ppm  \\\n",
       "0                   6.0  ...                       0.0          0.0   \n",
       "1                   0.0  ...                       0.0          1.0   \n",
       "2                   0.0  ...                       0.0          0.0   \n",
       "3                   0.0  ...                       0.0          0.0   \n",
       "4                   5.0  ...                       1.0          0.0   \n",
       "...                 ...  ...                       ...          ...   \n",
       "59373               1.0  ...                       0.0          0.0   \n",
       "59374               0.0  ...                       0.0          0.0   \n",
       "59375               0.0  ...                       0.0          0.0   \n",
       "59376               1.0  ...                       0.0          0.0   \n",
       "59377               4.0  ...                       0.0          1.0   \n",
       "\n",
       "       national_flag  pa_waste_catogory  water_percentage  sds_ind  \\\n",
       "0                0.0                0.0         60.000000      1.0   \n",
       "1                1.0                7.0         10.000000      1.0   \n",
       "2                0.0                9.0          0.000000      1.0   \n",
       "3                0.0                0.0         12.529263      0.0   \n",
       "4                0.0                5.0          0.000000      1.0   \n",
       "...              ...                ...               ...      ...   \n",
       "59373            0.0                0.0         12.529263      1.0   \n",
       "59374            0.0                0.0         50.000000      1.0   \n",
       "59375            0.0                0.0          0.000000      0.0   \n",
       "59376            0.0                0.0         48.000000      1.0   \n",
       "59377            0.0                0.0         25.000000      0.0   \n",
       "\n",
       "       analytical_attached  label_type  federal_universal_waste  revision_num  \n",
       "0                      0.0         1.0                      0.0             1  \n",
       "1                      0.0         1.0                      0.0             1  \n",
       "2                      0.0         3.0                      0.0             1  \n",
       "3                      0.0         0.0                      0.0             0  \n",
       "4                      0.0         7.0                      1.0             1  \n",
       "...                    ...         ...                      ...           ...  \n",
       "59373                  0.0         1.0                      0.0             0  \n",
       "59374                  0.0         1.0                      0.0             0  \n",
       "59375                  0.0         7.0                      1.0             3  \n",
       "59376                  0.0         1.0                      0.0             0  \n",
       "59377                  0.0         1.0                      0.0             3  \n",
       "\n",
       "[59378 rows x 27 columns]"
      ]
     },
     "execution_count": 56,
     "metadata": {},
     "output_type": "execute_result"
    }
   ],
   "source": [
    "feature_importance_dict = dict(zip(random_forest1.feature_names_in_, [round(i, 4) for i in random_forest1.feature_importances_]))\n",
    "threshold = 0.01\n",
    "selected_features = [feature for feature, importance in feature_importance_dict.items() if importance > threshold]\n",
    "print(\"Selected Features:\")\n",
    "print(selected_features)\n",
    "df_features = pd.DataFrame(data={feature: X[feature] for feature in selected_features})\n",
    "print(\"\\nDataFrame with Selected Features:\")\n",
    "df_features"
   ]
  },
  {
   "cell_type": "code",
   "execution_count": 57,
   "id": "e4405998",
   "metadata": {},
   "outputs": [
    {
     "name": "stdout",
     "output_type": "stream",
     "text": [
      "Top 10 Features:\n",
      "['sds_attached', 'revision_num', 'sds_ind', 'federal_universal_waste', 'odor_flag', 'label_type', 'water_percentage', 'ApprovedTonnage', 'flash_point_flag', 'solid_flag']\n"
     ]
    }
   ],
   "source": [
    "\n",
    "feature_importance_dict = dict(zip(random_forest1.feature_names_in_, [round(i, 4) for i in random_forest1.feature_importances_]))\n",
    "threshold = 0.01\n",
    "selected_features = [feature for feature, importance in feature_importance_dict.items() if importance > threshold]\n",
    "top10_features = sorted(selected_features, key=lambda x: feature_importance_dict[x], reverse=True)[:10]\n",
    "print(\"Top 10 Features:\")\n",
    "print(top10_features)\n",
    "df_top10_features = pd.DataFrame(data={feature: X[feature] for feature in top10_features})\n",
    "# print(\"\\nDataFrame with Top 10 Features:\")\n",
    "# df_top10_features"
   ]
  },
  {
   "cell_type": "code",
   "execution_count": 58,
   "id": "f28efd8e",
   "metadata": {},
   "outputs": [
    {
     "name": "stdout",
     "output_type": "stream",
     "text": [
      "Top 20 Features:\n",
      "['sds_attached', 'revision_num', 'sds_ind', 'federal_universal_waste', 'odor_flag', 'label_type', 'water_percentage', 'ApprovedTonnage', 'flash_point_flag', 'solid_flag', 'btu_per_lbs', 'analytical_attached', 'free_liquids_flag', 'isRecertified', 'pumpable_waste_flag', 'viscosity', 'origin_code', 'voc_500_ppm', 'pa_waste_catogory', 'prohibited_land_disposal']\n"
     ]
    }
   ],
   "source": [
    "\n",
    "feature_importance_dict = dict(zip(random_forest1.feature_names_in_, [round(i, 4) for i in random_forest1.feature_importances_]))\n",
    "threshold = 0.01\n",
    "selected_features = [feature for feature, importance in feature_importance_dict.items() if importance > threshold]\n",
    "top20_features = sorted(selected_features, key=lambda x: feature_importance_dict[x], reverse=True)[:20]\n",
    "print(\"Top 20 Features:\")\n",
    "print(top20_features)\n",
    "df_top20_features = pd.DataFrame(data={feature: X[feature] for feature in top20_features})\n",
    "# print(\"\\nDataFrame with Top 20 Features:\")\n",
    "# df_top20_features"
   ]
  },
  {
   "cell_type": "code",
   "execution_count": 59,
   "id": "bbb8e25c",
   "metadata": {},
   "outputs": [
    {
     "name": "stdout",
     "output_type": "stream",
     "text": [
      "Top 30 Features:\n",
      "['sds_attached', 'revision_num', 'sds_ind', 'federal_universal_waste', 'odor_flag', 'label_type', 'water_percentage', 'ApprovedTonnage', 'flash_point_flag', 'solid_flag', 'btu_per_lbs', 'analytical_attached', 'free_liquids_flag', 'isRecertified', 'pumpable_waste_flag', 'viscosity', 'origin_code', 'voc_500_ppm', 'pa_waste_catogory', 'prohibited_land_disposal', 'outbound_profile_ind', 'specific_gravity', 'national_flag', 'rcra_non_haz_exempt', 'rush_flag', 'halogens_flag', 'voc_100_ppm']\n"
     ]
    }
   ],
   "source": [
    "\n",
    "feature_importance_dict = dict(zip(random_forest1.feature_names_in_, [round(i, 4) for i in random_forest1.feature_importances_]))\n",
    "threshold = 0.01\n",
    "selected_features = [feature for feature, importance in feature_importance_dict.items() if importance > threshold]\n",
    "top30_features = sorted(selected_features, key=lambda x: feature_importance_dict[x], reverse=True)[:30]\n",
    "print(\"Top 30 Features:\")\n",
    "print(top30_features)\n",
    "df_top30_features = pd.DataFrame(data={feature: X[feature] for feature in top30_features})\n",
    "# print(\"\\nDataFrame with Top 30 Features:\")\n",
    "# df_top30_features"
   ]
  },
  {
   "cell_type": "code",
   "execution_count": 60,
   "id": "0003fe08",
   "metadata": {},
   "outputs": [
    {
     "data": {
      "text/plain": [
       "(59378, 10)"
      ]
     },
     "execution_count": 60,
     "metadata": {},
     "output_type": "execute_result"
    }
   ],
   "source": [
    "df_top10_features.shape"
   ]
  },
  {
   "cell_type": "code",
   "execution_count": 61,
   "id": "af326b4d",
   "metadata": {},
   "outputs": [
    {
     "data": {
      "text/plain": [
       "(59378, 79)"
      ]
     },
     "execution_count": 61,
     "metadata": {},
     "output_type": "execute_result"
    }
   ],
   "source": [
    "df_final.shape"
   ]
  },
  {
   "cell_type": "code",
   "execution_count": 62,
   "id": "95cbfd0a",
   "metadata": {},
   "outputs": [],
   "source": [
    "count_0_class,count_1_class = df_final.Resubmit_binary.value_counts()\n",
    "df_class_0 = df_final[df_final[\"Resubmit_binary\"]==0]\n",
    "df_class_1 = df_final[df_final[\"Resubmit_binary\"]==1]\n",
    "X_train, X_test, y_train, y_test = train_test_split(XX,yy, test_size=0.2,random_state=15,stratify=yy)"
   ]
  },
  {
   "cell_type": "code",
   "execution_count": 63,
   "id": "c6688938",
   "metadata": {},
   "outputs": [
    {
     "name": "stdout",
     "output_type": "stream",
     "text": [
      "Random Under-sampling:\n",
      "0    6757\n",
      "1    6757\n",
      "Name: Resubmit_binary, dtype: int64\n"
     ]
    }
   ],
   "source": [
    "df_class_0_under = df_class_0.sample(count_1_class)\n",
    "df_top30_features = pd.concat([df_class_0_under, df_class_1],axis=0)\n",
    "\n",
    "print('Random Under-sampling:')\n",
    "print(df_test_under.Resubmit_binary.value_counts())"
   ]
  },
  {
   "cell_type": "code",
   "execution_count": 64,
   "id": "c61f1306",
   "metadata": {},
   "outputs": [
    {
     "name": "stdout",
     "output_type": "stream",
     "text": [
      "\n",
      "Precision: 0.6539\n",
      "Recall: 0.7076\n",
      "F1-Score: 0.6797\n",
      "Logistict regression accuracy for top 30 columns:0.6796152423233445\n"
     ]
    },
    {
     "name": "stderr",
     "output_type": "stream",
     "text": [
      "C:\\Users\\RameshMisale\\anaconda3\\Lib\\site-packages\\sklearn\\linear_model\\_logistic.py:458: ConvergenceWarning: lbfgs failed to converge (status=1):\n",
      "STOP: TOTAL NO. of ITERATIONS REACHED LIMIT.\n",
      "\n",
      "Increase the number of iterations (max_iter) or scale the data as shown in:\n",
      "    https://scikit-learn.org/stable/modules/preprocessing.html\n",
      "Please also refer to the documentation for alternative solver options:\n",
      "    https://scikit-learn.org/stable/modules/linear_model.html#logistic-regression\n",
      "  n_iter_i = _check_optimize_result(\n"
     ]
    }
   ],
   "source": [
    "X_top30 = df_top30_features[top20_features]\n",
    "yy = df_test_under['Resubmit_binary'] \n",
    "\n",
    "XX_train, XX_test, yy_train, yy_test = train_test_split(X_top30, yy, test_size=0.2, random_state=42,stratify=yy)\n",
    "logistic_regression = LogisticRegression(penalty='l2',C=1.0,max_iter=100,random_state=42)\n",
    "logistic_regression.fit(XX_train, yy_train)\n",
    "y_pred = logistic_regression.predict(XX_test)\n",
    "accuracy = accuracy_score(yy_test, y_pred)\n",
    "classification_report_str = classification_report(yy_test, y_pred)\n",
    "confusion_mat = confusion_matrix(yy_test, y_pred)\n",
    "\n",
    "precision_knn_test = precision_score(yy_test, y_pred_knn_test)\n",
    "recall_knn_test = recall_score(yy_test, y_pred_knn_test)\n",
    "f1_knn_test = f1_score(yy_test, y_pred_knn_test)\n",
    "\n",
    "print(f'\\nPrecision: {precision_knn_test:.4f}')\n",
    "print(f'Recall: {recall_knn_test:.4f}')\n",
    "print(f'F1-Score: {f1_knn_test:.4f}')\n",
    "print(f'Logistict regression accuracy for top 30 columns:{accuracy}')"
   ]
  },
  {
   "cell_type": "code",
   "execution_count": 65,
   "id": "ba1037f0",
   "metadata": {},
   "outputs": [
    {
     "name": "stdout",
     "output_type": "stream",
     "text": [
      "\n",
      "Precision: 0.6401\n",
      "Recall: 0.6003\n",
      "F1-Score: 0.6196\n",
      "Decision Tree accuracy for top 30 columns: 0.6315205327413984\n"
     ]
    }
   ],
   "source": [
    "from sklearn.tree import DecisionTreeClassifier\n",
    "XX_train, XX_test, yy_train, yy_test = train_test_split(X_top30, yy, test_size=0.2, random_state=42, stratify=yy)\n",
    "decision_tree = DecisionTreeClassifier(random_state=42)\n",
    "decision_tree.fit(XX_train, yy_train)\n",
    "y_pred = decision_tree.predict(XX_test)\n",
    "accuracy = accuracy_score(yy_test, y_pred)\n",
    "classification_report_str = classification_report(yy_test, y_pred)\n",
    "confusion_mat = confusion_matrix(yy_test, y_pred)\n",
    "\n",
    "precision_dt_test = precision_score(yy_test, y_pred)\n",
    "recall_dt_test = recall_score(yy_test, y_pred)\n",
    "f1_dt_test = f1_score(yy_test, y_pred)\n",
    "\n",
    "print(f'\\nPrecision: {precision_dt_test:.4f}')\n",
    "print(f'Recall: {recall_dt_test:.4f}')\n",
    "print(f'F1-Score: {f1_dt_test:.4f}')\n",
    "print(f'Decision Tree accuracy for top 30 columns: {accuracy}')"
   ]
  },
  {
   "cell_type": "code",
   "execution_count": 67,
   "id": "57d14068",
   "metadata": {},
   "outputs": [
    {
     "name": "stdout",
     "output_type": "stream",
     "text": [
      "\n",
      "Precision: 0.6933\n",
      "Recall: 0.7698\n",
      "F1-Score: 0.7296\n",
      "Random Forest accuracy for top 30 columns: 0.7147613762486127\n"
     ]
    }
   ],
   "source": [
    "from sklearn.ensemble import RandomForestClassifier\n",
    "XX_train, XX_test, yy_train, yy_test = train_test_split(X_top30, yy, test_size=0.2, random_state=42, stratify=yy)\n",
    "\n",
    "random_forest_ = RandomForestClassifier(n_estimators=100,max_depth=10,criterion='gini')\n",
    "random_forest_.fit(XX_train, yy_train)\n",
    "y_pred = random_forest.predict(XX_test)\n",
    "\n",
    "accuracy = accuracy_score(yy_test, y_pred)\n",
    "classification_report_str = classification_report(yy_test, y_pred)\n",
    "confusion_mat = confusion_matrix(yy_test, y_pred)\n",
    "\n",
    "precision_rf_test = precision_score(yy_test, y_pred)\n",
    "recall_rf_test = recall_score(yy_test, y_pred)\n",
    "f1_rf_test = f1_score(yy_test, y_pred)\n",
    "\n",
    "print(f'\\nPrecision: {precision_rf_test:.4f}')\n",
    "print(f'Recall: {recall_rf_test:.4f}')\n",
    "print(f'F1-Score: {f1_rf_test:.4f}')\n",
    "print(f'Random Forest accuracy for top 30 columns: {accuracy}')\n"
   ]
  },
  {
   "cell_type": "code",
   "execution_count": 70,
   "id": "0f4a17c5",
   "metadata": {},
   "outputs": [
    {
     "data": {
      "text/plain": [
       "['C:\\\\Users\\\\RameshMisale\\\\Downloads\\\\random_forest_model.pkl']"
      ]
     },
     "execution_count": 70,
     "metadata": {},
     "output_type": "execute_result"
    }
   ],
   "source": [
    "import pickle\n",
    "file_path = r'C:\\Users\\RameshMisale\\Downloads\\random_forest_model.pkl'\n",
    "with open(file_path, 'wb') as file:\n",
    "    pickle.dump(random_forest_,file)\n",
    "\n",
    "import joblib\n",
    "model_case = joblib.load(open(r'C:\\Users\\RameshMisale\\Downloads\\random_forest_model.pkl', 'rb'))\n",
    "joblib.dump(model_case, r'C:\\Users\\RameshMisale\\Downloads\\random_forest_model.pkl')"
   ]
  },
  {
   "cell_type": "code",
   "execution_count": null,
   "id": "e523df86",
   "metadata": {},
   "outputs": [],
   "source": [
    "# df_top_10 = df_top10_features[top10_features]\n",
    "\n",
    "# # Set the figure size\n",
    "# plt.figure(figsize=(16, 8))\n",
    "\n",
    "# # Plot boxplots for the top 10 features\n",
    "# sns.boxplot(data=df_top_10)\n",
    "# plt.title('Boxplot of Top 10 Features')\n",
    "# plt.xticks(rotation=45)  # Rotate x-axis labels for better readability\n",
    "# plt.show()"
   ]
  },
  {
   "cell_type": "code",
   "execution_count": null,
   "id": "cfce5d7f",
   "metadata": {},
   "outputs": [],
   "source": [
    "# df_top_30 = df_top30_features[top30_features]\n",
    "\n",
    "# # Set the figure size\n",
    "# plt.figure(figsize=(18, 8))\n",
    "\n",
    "# # Plot boxplots for the top 10 features\n",
    "# sns.boxplot(data=df_top_30)\n",
    "# plt.title('Boxplot of Top 10 Features')\n",
    "# plt.xticks(rotation=45)  # Rotate x-axis labels for better readability\n",
    "# plt.show()"
   ]
  },
  {
   "cell_type": "code",
   "execution_count": null,
   "id": "302090f5",
   "metadata": {},
   "outputs": [],
   "source": [
    "# df_top_20 = df_top20_features[top20_features]\n",
    "\n",
    "# # Set the figure size\n",
    "# plt.figure(figsize=(18, 8))\n",
    "\n",
    "# # Plot boxplots for the top 10 features\n",
    "# sns.boxplot(data=df_top_20)\n",
    "# plt.title('Boxplot of Top 10 Features')\n",
    "# plt.xticks(rotation=45)  # Rotate x-axis labels for better readability\n",
    "# plt.show()"
   ]
  },
  {
   "cell_type": "markdown",
   "id": "ae2c8512",
   "metadata": {},
   "source": [
    "# Over sampling"
   ]
  },
  {
   "cell_type": "code",
   "execution_count": null,
   "id": "4cc4eaaf",
   "metadata": {},
   "outputs": [],
   "source": [
    "# count_0_class,count_1_class = df_final.Resubmit_binary.value_counts()\n",
    "# df_class_0 = df_final[df_final[\"Resubmit_binary\"]==0]\n",
    "# df_class_1 = df_final[df_final[\"Resubmit_binary\"]==1]\n",
    "# #X_train, X_test, y_train, y_test = train_test_split(XX,yy, test_size=0.2,random_state=15,stratify=yy)"
   ]
  },
  {
   "cell_type": "code",
   "execution_count": null,
   "id": "7f6d4708",
   "metadata": {},
   "outputs": [],
   "source": [
    "# df_class_1_over = df_class_1.sample(count_0_class,replace=True)\n",
    "\n",
    "# df_test_over = pd.concat([df_class_0, df_class_1_over],axis=0)\n",
    "# print('Random Under-sampling:')\n",
    "# print(df_test_over.Resubmit_binary.value_counts())"
   ]
  },
  {
   "cell_type": "code",
   "execution_count": null,
   "id": "b425ec39",
   "metadata": {},
   "outputs": [],
   "source": [
    "# count_1_class_over = int(count_0_class*0.8)\n",
    "# df_class_1_over = df_class_1.sample(count_1_class_over, replace=True)\n",
    "# df_test_over = pd.concat([df_class_0, df_class_1_over], axis=0)\n",
    "\n",
    "# print('Random Over-sampling:')\n",
    "# print(df_test_over.Resubmit_binary.value_counts())"
   ]
  },
  {
   "cell_type": "code",
   "execution_count": null,
   "id": "97b37c0c",
   "metadata": {},
   "outputs": [],
   "source": [
    "# XX = df_test_over.drop('Resubmit_binary', axis='columns')\n",
    "# yy= df_test_over['Resubmit_binary']\n",
    "# XX_train, XX_test, yy_train, yy_test = train_test_split(XX,yy, test_size=0.2,random_state=42,stratify=yy)"
   ]
  },
  {
   "cell_type": "code",
   "execution_count": null,
   "id": "654b1d36",
   "metadata": {},
   "outputs": [],
   "source": [
    "# yy_train.value_counts()"
   ]
  },
  {
   "cell_type": "code",
   "execution_count": null,
   "id": "a17e2325",
   "metadata": {},
   "outputs": [],
   "source": [
    "# yy_test.value_counts()"
   ]
  },
  {
   "cell_type": "markdown",
   "id": "d40cd8ae",
   "metadata": {},
   "source": [
    "# Logistic Regression"
   ]
  },
  {
   "cell_type": "code",
   "execution_count": null,
   "id": "d54cd410",
   "metadata": {},
   "outputs": [],
   "source": [
    "# logistic_regression = LogisticRegression()\n",
    "# logistic_regression.fit(XX_train, yy_train)\n",
    "# y_pred_lr_train = logistic_regression.predict(XX_train)\n",
    "# y_pred_lr_test = logistic_regression.predict(XX_test)\n",
    "\n",
    "# # Accuracy\n",
    "# accuracy_lr_train = accuracy_score(yy_train, y_pred_lr_train)\n",
    "# accuracy_lr_test = accuracy_score(yy_test, y_pred_lr_test)\n",
    "# print(f'Logistic Regression Training Accuracy: {accuracy_lr_train}')\n",
    "# print(f'Logistic Regression Testing Accuracy: {accuracy_lr_test}')\n",
    "\n",
    "# # classification report\n",
    "# print(classification_report(yy_test, y_pred_lr_test))\n",
    "# print(confusion_matrix(yy_test, y_pred_lr_test))"
   ]
  },
  {
   "cell_type": "code",
   "execution_count": null,
   "id": "012de871",
   "metadata": {},
   "outputs": [],
   "source": [
    "# y_prob_lr_test = logistic_regression.predict_proba(XX_test)[:, 1]\n",
    "\n",
    "# # ROC-AUC curve\n",
    "# fpr, tpr, thresholds = roc_curve(yy_test, y_prob_lr_test)\n",
    "# roc_auc = auc(fpr, tpr)\n",
    "\n",
    "# # Plot ROC curve\n",
    "# plt.figure(figsize=(4, 4))\n",
    "# plt.plot(fpr, tpr, color='darkorange', lw=2, label=f'ROC curve (area = {roc_auc:.2f})')\n",
    "# plt.plot([0, 1], [0, 1], color='navy', lw=2, linestyle='--')\n",
    "# plt.xlabel('False Positive Rate')\n",
    "# plt.ylabel('True Positive Rate')\n",
    "# plt.title('ROC Curve - Logistic Regression')\n",
    "# plt.legend(loc='lower right')\n",
    "# plt.show()"
   ]
  },
  {
   "cell_type": "markdown",
   "id": "c9feef26",
   "metadata": {},
   "source": [
    "# DT"
   ]
  },
  {
   "cell_type": "code",
   "execution_count": null,
   "id": "3de0b639",
   "metadata": {},
   "outputs": [],
   "source": [
    "# from sklearn.tree import DecisionTreeClassifier\n",
    "\n",
    "# decision_tree = DecisionTreeClassifier(criterion='gini',max_depth=5)\n",
    "# decision_tree.fit(XX_train, yy_train)\n",
    "# y_pred_dt_train = decision_tree.predict(XX_train)\n",
    "# y_pred_dt_test = decision_tree.predict(XX_test)\n",
    "# accuracy_dt_train = accuracy_score(yy_train, y_pred_dt_train)\n",
    "# accuracy_dt_test = accuracy_score(yy_test, y_pred_dt_test)\n",
    "# print(f'Decision Tree Training Accuracy: {accuracy_dt_train}')\n",
    "# print(f'Decision Tree Testing Accuracy: {accuracy_dt_test}')\n",
    "\n",
    "\n",
    "# # classification report\n",
    "# print(classification_report(yy_test, y_pred_dt_test))\n",
    "# print(confusion_matrix(yy_test, y_pred_dt_test))"
   ]
  },
  {
   "cell_type": "markdown",
   "id": "4daf4110",
   "metadata": {},
   "source": [
    "# Random Forest"
   ]
  },
  {
   "cell_type": "code",
   "execution_count": null,
   "id": "1d09b6a7",
   "metadata": {},
   "outputs": [],
   "source": [
    "# random_forest = RandomForestClassifier()\n",
    "# random_forest.fit(XX_train, yy_train)\n",
    "# y_pred_rf_train = random_forest.predict(XX_train)\n",
    "# y_pred_rf_test = random_forest.predict(XX_test)\n",
    "# accuracy_rf_train = accuracy_score(yy_train, y_pred_rf_train)\n",
    "# accuracy_rf_test = accuracy_score(yy_test, y_pred_rf_test)\n",
    "# print(f'Random Forest Training Accuracy: {accuracy_rf_train}')\n",
    "# print(f'Random Forest Testing Accuracy: {accuracy_rf_test}')\n",
    "\n",
    "# # classification report\n",
    "# print(classification_report(yy_test, y_pred_rf_test))\n",
    "# print(confusion_matrix(yy_test, y_pred_rf_test))"
   ]
  },
  {
   "cell_type": "code",
   "execution_count": null,
   "id": "585f5baf",
   "metadata": {},
   "outputs": [],
   "source": [
    "# y_prob_rf_test = logistic_regression.predict_proba(XX_test)[:, 1]\n",
    "\n",
    "# # ROC-AUC curve\n",
    "# fpr, tpr, thresholds = roc_curve(yy_test, y_prob_rf_test)\n",
    "# roc_auc = auc(fpr, tpr)\n",
    "\n",
    "# # Plot ROC curve\n",
    "# plt.figure(figsize=(4, 4))\n",
    "# plt.plot(fpr, tpr, color='darkorange', lw=2, label=f'ROC curve (area = {roc_auc:.2f})')\n",
    "# plt.plot([0, 1], [0, 1], color='navy', lw=2, linestyle='--')\n",
    "# plt.xlabel('False Positive Rate')\n",
    "# plt.ylabel('True Positive Rate')\n",
    "# plt.title('ROC Curve - Logistic Regression')\n",
    "# plt.legend(loc='lower right')\n",
    "# plt.show()"
   ]
  },
  {
   "cell_type": "code",
   "execution_count": null,
   "id": "3e18e53e",
   "metadata": {},
   "outputs": [],
   "source": [
    "#build the model with 82 columns check the accuracy for 3 models----------------------------done \n",
    "#plot the distribution of data for class_0,class_1  ----------------------------------------done \n",
    "#plot the boxplot and check the outliers ---------------------------------------------------done\n",
    "#the select top10 20 30 and then build the model check the accuracy for 3 model--------------pending\n",
    "#plot heatmap for top 10 20 30 -------------------------------------------------------------done \n",
    "# after building the model try to do the tuning manually for 3 models------------------------done\n",
    "#after building the 3 models try others models as well--------------------------------------done\n",
    "#mention the dropped constant colums with their values -------------------------------------done \n",
    "#plot a confusion metrics for precision recall f1-score------------------------------------done\n",
    "#for feature selection do the entropy - top10,20,30-----------------------------------------done"
   ]
  }
 ],
 "metadata": {
  "kernelspec": {
   "display_name": "Python 3 (ipykernel)",
   "language": "python",
   "name": "python3"
  },
  "language_info": {
   "codemirror_mode": {
    "name": "ipython",
    "version": 3
   },
   "file_extension": ".py",
   "mimetype": "text/x-python",
   "name": "python",
   "nbconvert_exporter": "python",
   "pygments_lexer": "ipython3",
   "version": "3.11.4"
  }
 },
 "nbformat": 4,
 "nbformat_minor": 5
}
